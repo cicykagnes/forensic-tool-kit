{
  "nbformat": 4,
  "nbformat_minor": 0,
  "metadata": {
    "colab": {
      "name": "frnsc data augmentation for sketch to image.ipynb",
      "provenance": []
    },
    "kernelspec": {
      "name": "python3",
      "display_name": "Python 3"
    },
    "language_info": {
      "name": "python"
    }
  },
  "cells": [
    {
      "cell_type": "code",
      "execution_count": 1,
      "metadata": {
        "colab": {
          "base_uri": "https://localhost:8080/"
        },
        "id": "8AW2uXFXbQd7",
        "outputId": "043c520d-7484-4e44-e0a2-4eb0c1a21d05"
      },
      "outputs": [
        {
          "output_type": "stream",
          "name": "stdout",
          "text": [
            "Mounted at /content/gdrive\n"
          ]
        }
      ],
      "source": [
        " from google.colab import drive\n",
        "drive.mount('/content/gdrive')"
      ]
    },
    {
      "cell_type": "code",
      "source": [
        "import matplotlib.pyplot as plt\n",
        "import matplotlib.gridspec as gridspec #GridSpec class is used to specify the geometry of the grid to place a subplot. For this, to work the number of rows and columns must be set.\n",
        "import cv2\n",
        "import os\n",
        "import numpy as np\n",
        "import glob\n",
        "from PIL import Image"
      ],
      "metadata": {
        "id": "5IUTfuaAb0yy"
      },
      "execution_count": 2,
      "outputs": []
    },
    {
      "cell_type": "markdown",
      "source": [
        "https://www.geeksforgeeks.org/python-opencv-affine-transformation/"
      ],
      "metadata": {
        "id": "5VqdAf-HdZGr"
      }
    },
    {
      "cell_type": "code",
      "source": [
        "def random_shearing(img, num, border):\n",
        "    rows = img.shape[0]\n",
        "    cols = img.shape[1]\n",
        "    if num == 0:\n",
        "        pts1 = np.float32([[5,5],[20,5],[2,20]])\n",
        "        pts2 = np.float32([[10,10],[20,5],[5,25]])\n",
        "    elif num == 1:\n",
        "        pts1 = np.float32([[5,5],[15,5],[2,20]])\n",
        "        pts2 = np.float32([[5,10],[10,10],[5,25]])\n",
        "    elif num == 2:\n",
        "        pts1 = np.float32([[5,5],[15,5],[5,20]])\n",
        "        pts2 = np.float32([[5,10],[10,10],[5,25]])\n",
        "    elif num == 3:\n",
        "        pts1 = np.float32([[5,5],[10,5],[2,20]])\n",
        "        pts2 = np.float32([[5,10],[10,10],[5,25]])\n",
        "    elif num == 4:\n",
        "        pts1 = np.float32([[5,5],[10,5],[2,20]])\n",
        "        pts2 = np.float32([[5,10],[10,10],[5,30]])\n",
        "    else:\n",
        "        pts1 = np.float32([[5,5],[10,5],[10,20]])\n",
        "        pts2 = np.float32([[5,10],[10,10],[5,30]])\n",
        "    M = cv2.getAffineTransform(pts1,pts2)\n",
        "    return cv2.warpAffine(img, M, (cols,rows), borderValue=border)\n",
        "\n",
        "def random_rotation(img, degree, border):\n",
        "    rows = img.shape[0]\n",
        "    cols = img.shape[1]\n",
        "    M = cv2.getRotationMatrix2D((cols/2,rows/2),degree,1)\n",
        "    return cv2.warpAffine(img,M,(cols,rows), borderValue=border)"
      ],
      "metadata": {
        "id": "QW-O7ix_cJ8s"
      },
      "execution_count": 3,
      "outputs": []
    },
    {
      "cell_type": "code",
      "source": [
        "def transform_image(img, skt, ang_range, shear_range, trans_range):\n",
        "    '''\n",
        "    Transforms images to generate new images.\n",
        "    \n",
        "    1- Image\n",
        "    2- ang_range: Range of angles for rotation  , 40\n",
        "    3- shear_range: Range of values to apply affine transform to  ,10\n",
        "    4- trans_range: Range of values to apply translations over.  ,10\n",
        "\n",
        "    A Random uniform distribution is used to generate different parameters for transformation\n",
        "\n",
        "    '''\n",
        "    # Rotation\n",
        "\n",
        "    ang_rot = np.random.uniform(ang_range)-ang_range/2\n",
        "    rows,cols,ch = img.shape    \n",
        "    Rot_M = cv2.getRotationMatrix2D((cols/2,rows/2),ang_rot,1)\n",
        "\n",
        "    # Translation\n",
        "    tr_x = trans_range*np.random.uniform()-trans_range/2\n",
        "    tr_y = trans_range*np.random.uniform()-trans_range/2\n",
        "    Trans_M = np.float32([[1,0,tr_x],[0,1,tr_y]])\n",
        "\n",
        "    # Shear\n",
        "    pts1 = np.float32([[5,5],[20,5],[5,20]])\n",
        "\n",
        "    pt1 = 5+shear_range*np.random.uniform()-shear_range/2\n",
        "    pt2 = 20+shear_range*np.random.uniform()-shear_range/2\n",
        "\n",
        "    pts2 = np.float32([[pt1,5],[pt2,pt1],[5,pt2]])\n",
        "\n",
        "    shear_M = cv2.getAffineTransform(pts1,pts2)\n",
        "\n",
        "    # Border\n",
        "    idx = 0\n",
        "    border_img = tuple([int(img[idx][0][0]), int(img[idx][0][1]), int(img[idx][0][2])])\n",
        "    border_skt = tuple([int(skt[0][0][0]), int(skt[0][0][1]), int(skt[0][0][2])])\n",
        "    \n",
        "    img = cv2.warpAffine(img,Rot_M,(cols,rows), borderValue=border_img)\n",
        "    img = cv2.warpAffine(img,Trans_M,(cols,rows), borderValue=border_img)\n",
        "    img = cv2.warpAffine(img,shear_M,(cols,rows), borderValue=border_img)\n",
        "    \n",
        "    skt = cv2.warpAffine(skt,Rot_M,(cols,rows), borderValue=border_skt)\n",
        "    skt = cv2.warpAffine(skt,Trans_M,(cols,rows), borderValue=border_skt)\n",
        "    skt = cv2.warpAffine(skt,shear_M,(cols,rows), borderValue=border_skt)\n",
        "\n",
        "    return img, skt"
      ],
      "metadata": {
        "id": "ar7_F5pBdcdG"
      },
      "execution_count": 4,
      "outputs": []
    },
    {
      "cell_type": "code",
      "source": [
        "sketch_directory = '/content/gdrive/MyDrive/Dataset/Augmented sketch/'\n",
        "photo_directory = '/content/gdrive/MyDrive/Dataset/Augmented photo/'\n",
        "\n",
        "if not os.path.exists(sketch_directory):\n",
        "    os.mkdir(sketch_directory)\n",
        "\n",
        "if not os.path.exists(photo_directory):\n",
        "    os.mkdir(photo_directory)\n",
        "\n",
        "aug_photo_filenames = glob.glob('/content/gdrive/MyDrive/Dataset/CUHK/Training photo/*')\n",
        "aug_sketch_filenames = glob.glob('/content/gdrive/MyDrive/Dataset/CUHK/Training sketch/*')\n",
        "\n",
        "counter = 0\n",
        "for i in range(len(aug_photo_filenames)):\n",
        "    im = cv2.imread(aug_photo_filenames[i])\n",
        "    sk = cv2.imread(aug_sketch_filenames[i])\n",
        "\n",
        "    for j in range(200):\n",
        "        img, skt = transform_image(im, sk, 40, 10, 10)\n",
        "\n",
        "        cv2.imwrite(photo_directory + str(counter) + '.jpg', img)\n",
        "        cv2.imwrite(sketch_directory + str(counter) + '.jpg', skt)\n",
        "\n",
        "        counter += 1"
      ],
      "metadata": {
        "id": "K6Vnku31eDRz"
      },
      "execution_count": 5,
      "outputs": []
    },
    {
      "cell_type": "code",
      "source": [
        ""
      ],
      "metadata": {
        "id": "jXuQecDYPRFu"
      },
      "execution_count": null,
      "outputs": []
    }
  ]
}