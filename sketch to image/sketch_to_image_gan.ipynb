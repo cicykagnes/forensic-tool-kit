{
  "nbformat": 4,
  "nbformat_minor": 0,
  "metadata": {
    "colab": {
      "name": "sketch to image.ipynb",
      "provenance": [],
      "collapsed_sections": []
    },
    "kernelspec": {
      "name": "python3",
      "display_name": "Python 3"
    },
    "language_info": {
      "name": "python"
    }
  },
  "cells": [
    {
      "cell_type": "code",
      "execution_count": 1,
      "metadata": {
        "id": "99DZfd9zuD9I"
      },
      "outputs": [],
      "source": [
        "import matplotlib.pyplot as plt\n",
        "import matplotlib.gridspec as gridspec\n",
        "import cv2\n",
        "import os\n",
        "import numpy as np\n",
        "import glob\n",
        "from PIL import Image"
      ]
    },
    {
      "cell_type": "code",
      "source": [
        " from google.colab import drive\n",
        "drive.mount('/content/gdrive')"
      ],
      "metadata": {
        "colab": {
          "base_uri": "https://localhost:8080/"
        },
        "id": "eSL4vMFyMtnp",
        "outputId": "2902a1fa-ceed-4b58-be87-f340ac50f254"
      },
      "execution_count": 2,
      "outputs": [
        {
          "output_type": "stream",
          "name": "stdout",
          "text": [
            "Drive already mounted at /content/gdrive; to attempt to forcibly remount, call drive.mount(\"/content/gdrive\", force_remount=True).\n"
          ]
        }
      ]
    },
    {
      "cell_type": "code",
      "source": [
        "from __future__ import print_function, division\n",
        "\n",
        "from keras_contrib.layers.normalization.instancenormalization import InstanceNormalization\n",
        "from keras.layers import Input, Dense, Reshape, Flatten, Dropout, Concatenate, BatchNormalization, Activation, ZeroPadding2D\n",
        "from keras.layers.advanced_activations import LeakyReLU\n",
        "from keras.layers.convolutional import UpSampling2D, Conv2D\n",
        "from keras.models import Sequential, Model\n",
        "from tensorflow.keras.optimizers import Adam\n",
        "\n",
        "from keras.preprocessing.image import img_to_array\n",
        "from keras.preprocessing.image import load_img\n",
        "\n",
        "from sklearn.utils import shuffle\n",
        "import matplotlib.pyplot as plt\n",
        "import numpy as np\n",
        "import datetime\n",
        "import natsort\n",
        "import scipy\n",
        "import sys\n",
        "import os\n",
        "import cv2"
      ],
      "metadata": {
        "colab": {
          "base_uri": "https://localhost:8080/"
        },
        "id": "LCQbT042PNSH",
        "outputId": "3c31287f-e23a-480a-e578-b73409917d58"
      },
      "execution_count": 3,
      "outputs": [
        {
          "output_type": "stream",
          "name": "stderr",
          "text": [
            "Using TensorFlow backend.\n"
          ]
        }
      ]
    },
    {
      "cell_type": "code",
      "source": [
        "pip install git+https://www.github.com/keras-team/keras-contrib.git"
      ],
      "metadata": {
        "colab": {
          "base_uri": "https://localhost:8080/"
        },
        "id": "WJ8fsx4vcfth",
        "outputId": "db8be4c1-b235-4c91-867a-e2c629bb570f"
      },
      "execution_count": 2,
      "outputs": [
        {
          "output_type": "stream",
          "name": "stdout",
          "text": [
            "Collecting git+https://www.github.com/keras-team/keras-contrib.git\n",
            "  Cloning https://www.github.com/keras-team/keras-contrib.git to /tmp/pip-req-build-gjve58j6\n",
            "  Running command git clone -q https://www.github.com/keras-team/keras-contrib.git /tmp/pip-req-build-gjve58j6\n",
            "Requirement already satisfied: keras in /usr/local/lib/python3.7/dist-packages (from keras-contrib==2.0.8) (2.2.4)\n",
            "Requirement already satisfied: scipy>=0.14 in /usr/local/lib/python3.7/dist-packages (from keras->keras-contrib==2.0.8) (1.4.1)\n",
            "Requirement already satisfied: keras-applications>=1.0.6 in /usr/local/lib/python3.7/dist-packages (from keras->keras-contrib==2.0.8) (1.0.8)\n",
            "Requirement already satisfied: h5py in /usr/local/lib/python3.7/dist-packages (from keras->keras-contrib==2.0.8) (3.1.0)\n",
            "Requirement already satisfied: six>=1.9.0 in /usr/local/lib/python3.7/dist-packages (from keras->keras-contrib==2.0.8) (1.15.0)\n",
            "Requirement already satisfied: keras-preprocessing>=1.0.5 in /usr/local/lib/python3.7/dist-packages (from keras->keras-contrib==2.0.8) (1.1.2)\n",
            "Requirement already satisfied: pyyaml in /usr/local/lib/python3.7/dist-packages (from keras->keras-contrib==2.0.8) (3.13)\n",
            "Requirement already satisfied: numpy>=1.9.1 in /usr/local/lib/python3.7/dist-packages (from keras->keras-contrib==2.0.8) (1.19.5)\n",
            "Requirement already satisfied: cached-property in /usr/local/lib/python3.7/dist-packages (from h5py->keras->keras-contrib==2.0.8) (1.5.2)\n"
          ]
        }
      ]
    },
    {
      "cell_type": "code",
      "source": [
        "from __future__ import print_function, division\n",
        "\n",
        "from keras_contrib.layers.normalization.instancenormalization import InstanceNormalization\n",
        "from keras.layers import Input, Dense, Reshape, Flatten, Dropout, Concatenate, BatchNormalization, Activation, ZeroPadding2D\n",
        "from keras.layers.advanced_activations import LeakyReLU\n",
        "from keras.layers.convolutional import UpSampling2D, Conv2D\n",
        "from keras.models import Sequential, Model\n",
        "from keras.optimizers import Adam\n",
        "\n",
        "from keras.preprocessing.image import img_to_array\n",
        "from keras.preprocessing.image import load_img\n",
        "\n",
        "from sklearn.utils import shuffle\n",
        "import matplotlib.pyplot as plt\n",
        "import numpy as np\n",
        "import datetime\n",
        "import natsort\n",
        "import scipy\n",
        "import sys\n",
        "import os\n",
        "import cv2"
      ],
      "metadata": {
        "id": "7LRX8YEhcuJR"
      },
      "execution_count": 20,
      "outputs": []
    },
    {
      "cell_type": "code",
      "source": [
        "def load_filename(path):\n",
        "    dirFiles = os.listdir(path)\n",
        "    for i, file in enumerate(dirFiles):\n",
        "        dirFiles[i] = path + file\n",
        "    return natsort.natsorted(dirFiles ,reverse=False)\n",
        "\n",
        "# load all images in a directory into memory\n",
        "def load_images(list_path, size=(256, 256)):\n",
        "    img_list = list()\n",
        "    # enumerate filenames in directory, assume all are images\n",
        "    for filename in list_path:\n",
        "        # load and resize the image\n",
        "        pixels = load_img(filename, target_size=size)\n",
        "        # convert to numpy array\n",
        "        pixels = img_to_array(pixels)\n",
        "        pixels = (pixels - 127.5) / 127.5\n",
        "        img_list.append(pixels)\n",
        "    return np.asarray(img_list)"
      ],
      "metadata": {
        "id": "umiHRZz6cyTP"
      },
      "execution_count": 4,
      "outputs": []
    },
    {
      "cell_type": "code",
      "source": [
        "# select a batch of random samples, returns images and target\n",
        "def generate_real_samples(dataset, n_samples, patch_shape):\n",
        "    # unpack dataset\n",
        "    trainA, trainB = dataset\n",
        "\n",
        "    # choose random instances\n",
        "    ix = np.random.randint(0, trainA.shape[0], n_samples)\n",
        "    \n",
        "    # retrieve selected images\n",
        "    X1, X2 = trainA[ix], trainB[ix]\n",
        "    \n",
        "    # generate 'real' class labels (1)\n",
        "    y = np.ones((n_samples, patch_shape, patch_shape, 1))\n",
        "    \n",
        "    return [X1, X2], y\n",
        "\n",
        "# generate a batch of images, returns images and targets\n",
        "def generate_fake_samples(g_model, samples, patch_shape):\n",
        "    # generate fake instance\n",
        "    X = g_model.predict(samples)\n",
        "    \n",
        "    # create 'fake' class labels (0)\n",
        "    y = np.zeros((len(X), patch_shape, patch_shape, 1))\n",
        "    \n",
        "    return X, y"
      ],
      "metadata": {
        "id": "_owuXClydCxE"
      },
      "execution_count": 5,
      "outputs": []
    },
    {
      "cell_type": "code",
      "source": [
        "# generate samples and save as a plot and save the model\n",
        "def summarize_performance(step, g_model, d_model, dataset, target_dir='', n_samples=3):\n",
        "    if target_dir and not os.path.exists(target_dir):\n",
        "        os.mkdir(target_dir)\n",
        "    # select a sample of input images\n",
        "    [X_realA, X_realB], _ = generate_real_samples(dataset, n_samples, 1)\n",
        "    # generate a batch of fake samples\n",
        "    X_fakeB, _ = generate_fake_samples(g_model, X_realA, 1)\n",
        "    # scale all pixels from [-1,1] to [0,1]\n",
        "    X_realA = (X_realA + 1) / 2.0\n",
        "    X_realB = (X_realB + 1) / 2.0\n",
        "    X_fakeB = (X_fakeB + 1) / 2.0\n",
        "    # plot real source images\n",
        "    for i in range(n_samples):\n",
        "        plt.subplot(3, n_samples, 1 + i)\n",
        "        plt.axis('off')\n",
        "        plt.imshow(X_realA[i])\n",
        "    # plot generated target image\n",
        "    for i in range(n_samples):\n",
        "        plt.subplot(3, n_samples, 1 + n_samples + i)\n",
        "        plt.axis('off')\n",
        "        plt.imshow(X_fakeB[i])\n",
        "    # plot real target image\n",
        "    for i in range(n_samples):\n",
        "        plt.subplot(3, n_samples, 1 + n_samples*2 + i)\n",
        "        plt.axis('off')\n",
        "        plt.imshow(X_realB[i])\n",
        "    # save plot to file\n",
        "    filename1 = 'plot_%06d.png' % (step+1)\n",
        "    plt.savefig(target_dir + filename1)\n",
        "    plt.close()\n",
        "    # save the generator model\n",
        "    g_model.save(target_dir + 'g_model.h5')\n",
        "    \n",
        "    # save the discriminator model\n",
        "    d_model.save(target_dir + 'd_model.h5')\n",
        "    \n",
        "    print('>Saved: %s and %s' % (filename1, 'g_model & d_model'))"
      ],
      "metadata": {
        "id": "RkVeq7WWdGQZ"
      },
      "execution_count": 6,
      "outputs": []
    },
    {
      "cell_type": "code",
      "source": [
        "def generator(img_shape):\n",
        "    def conv2d(layer_in, n_filter, norm=True):\n",
        "        d = Conv2D(n_filter, kernel_size=4, strides=2, padding='same')(layer_in)\n",
        "        d = LeakyReLU(0.2)(d)\n",
        "        if norm:\n",
        "            d = InstanceNormalization()(d)\n",
        "        return d\n",
        "    \n",
        "    def deconv2d(layer_in, skip_in, n_filter, dropout=0.5):\n",
        "        d = UpSampling2D(size=2)(layer_in)\n",
        "        d = Conv2D(n_filter, kernel_size=4, strides=1, padding='same', activation='relu')(d)\n",
        "        if dropout:\n",
        "            d = Dropout(dropout)(d)\n",
        "        d = InstanceNormalization()(d)\n",
        "        d = Concatenate()([d, skip_in])\n",
        "        return d\n",
        "    \n",
        "    # Input Layer\n",
        "    in_img = Input(shape=img_shape)\n",
        "    \n",
        "    # Downsampling\n",
        "    d1 = conv2d(in_img, 64, norm=False)\n",
        "    d2 = conv2d(d1, 128)\n",
        "    d3 = conv2d(d2, 256)\n",
        "    d4 = conv2d(d3, 512)\n",
        "    d5 = conv2d(d4, 512)\n",
        "    d6 = conv2d(d5, 512)\n",
        "    d7 = conv2d(d6, 512)\n",
        "    \n",
        "    # Upsampling\n",
        "    u1 = deconv2d(d7, d6, 512)\n",
        "    u2 = deconv2d(u1, d5, 512)\n",
        "    u3 = deconv2d(u2, d4, 512)\n",
        "    u4 = deconv2d(u3, d3, 256, dropout=0)\n",
        "    u5 = deconv2d(u4, d2, 128, dropout=0)\n",
        "    u6 = deconv2d(u5, d1, 64, dropout=0)\n",
        "    u7 = UpSampling2D(size=2)(u6)\n",
        "    \n",
        "    out_img = Conv2D(3, kernel_size=4, strides=1, padding='same', activation='tanh')(u7)\n",
        "    \n",
        "    return Model(in_img, out_img, name='generator')"
      ],
      "metadata": {
        "id": "D0PlU5WMdKzJ"
      },
      "execution_count": 7,
      "outputs": []
    },
    {
      "cell_type": "code",
      "source": [
        "def discriminator(img_shape):\n",
        "    def d_layer(layer_in, n_filter, norm=True):\n",
        "        d = Conv2D(n_filter, kernel_size=4, strides=2, padding='same')(layer_in)\n",
        "        d = LeakyReLU(0.2)(d)\n",
        "        if norm:\n",
        "            d = InstanceNormalization()(d)\n",
        "        return d\n",
        "    \n",
        "    in_src_img = Input(shape=img_shape)\n",
        "    in_target_img = Input(shape=img_shape)\n",
        "    \n",
        "    merged = Concatenate()([in_src_img, in_target_img])\n",
        "    \n",
        "    d1 = d_layer(merged, 64, norm=False)\n",
        "    d2 = d_layer(d1, 128)\n",
        "    d3 = d_layer(d1, 256)\n",
        "    d4 = d_layer(d1, 512)\n",
        "\n",
        "    out = Conv2D(1, kernel_size=4, strides=1, padding='same')(d4)\n",
        "    \n",
        "    return Model([in_src_img, in_target_img], out, name='discriminator')"
      ],
      "metadata": {
        "id": "JP46oSgKdOk_"
      },
      "execution_count": 8,
      "outputs": []
    },
    {
      "cell_type": "code",
      "source": [
        "def GAN(g_model, d_model, img_shape):\n",
        "    d_model.trainable = False\n",
        "    in_img = Input(shape=img_shape)\n",
        "    gen_out = g_model(in_img)\n",
        "    dis_out = d_model([in_img, gen_out])\n",
        "    model = Model(in_img, [dis_out, gen_out], name='GAN')\n",
        "    return model"
      ],
      "metadata": {
        "id": "Ntqp0fCfdRqH"
      },
      "execution_count": 9,
      "outputs": []
    },
    {
      "cell_type": "code",
      "source": [
        "def train(d_model, g_model, gan_model, data, target_dir, n_epochs=1, n_batch=16):\n",
        "    # determine the output square shape of the discriminator\n",
        "    n_patch = d_model.output_shape[1]\n",
        "    \n",
        "    blue_photo = data[0]\n",
        "    blue_sketch = data[1]\n",
        "    \n",
        "    for i in range(n_epochs):\n",
        "        print(' ========== Epoch', i+1, '========== ')\n",
        "        \n",
        "        blue_photo, blue_sketch = shuffle(blue_photo, blue_sketch)\n",
        "# int(len(blue_photo)/n_batch)\n",
        "        for j in range(3):\n",
        "            \n",
        "            start = int(j*n_batch) \n",
        "            end = int(min(len(blue_photo), (j*n_batch)+n_batch))\n",
        "            \n",
        "            dataset = [load_images(blue_photo[start:end]), load_images(blue_sketch[start:end])]\n",
        "\n",
        "            # select a batch of real samples\n",
        "            [X_realA, X_realB], y_real = generate_real_samples(dataset, n_batch, n_patch)\n",
        "            \n",
        "            # generate a batch of fake samples\n",
        "            X_fakeB, y_fake = generate_fake_samples(g_model, X_realA, n_patch)\n",
        "            \n",
        "            # update discriminator for real samples\n",
        "            d_loss1 = d_model.train_on_batch([X_realA, X_realB], y_real)\n",
        "            \n",
        "            # update discriminator for generated samples\n",
        "            d_loss2 = d_model.train_on_batch([X_realA, X_fakeB], y_fake)\n",
        "            \n",
        "            d_loss = 0.5 * np.add(d_loss1, d_loss2)\n",
        "            \n",
        "            # update the generator\n",
        "            g_loss, _, _ = gan_model.train_on_batch(X_realA, [y_real, X_realB])\n",
        "            \n",
        "            # summarize performance\n",
        "            print('Batch : %d, D Loss : %.3f | G Loss : %.3f' % (j+1, d_loss, g_loss))\n",
        "        \n",
        "        # summarize model performance\n",
        "#         if (i+1) % 10 == 0:\n",
        "        summarize_performance(i, g_model, d_model, dataset, target_dir)"
      ],
      "metadata": {
        "id": "OQH1O8E-dUIF"
      },
      "execution_count": 10,
      "outputs": []
    },
    {
      "cell_type": "code",
      "source": [
        "import tensorflow as tf\n",
        "import keras.backend as K\n",
        "from keras.losses import mean_absolute_error\n",
        "\n",
        "def pixel_loss(y_true, y_pred):\n",
        "    return K.mean(K.abs(y_true - y_pred))\n",
        "\n",
        "def contextual_loss (y_true, y_pred):\n",
        "    a = tf.image.rgb_to_grayscale(tf.slice(\n",
        "                                y_pred, \n",
        "                                [0,0,0,0], \n",
        "                                [16, 256, 256, 3]))\n",
        "    \n",
        "    b = tf.image.rgb_to_grayscale(tf.slice(\n",
        "                                y_true, \n",
        "                                [0,0,0,0], \n",
        "                                [16, 256, 256, 3]))\n",
        "    \n",
        "    y_pred = tf.divide(tf.add(tf.reshape(a, [tf.shape(a)[0], -1]), 1), 2)\n",
        "    y_true = tf.divide(tf.add(tf.reshape(b, [tf.shape(b)[0], -1]), 1), 2)\n",
        "    \n",
        "#     tf.assert_rank(y_true,2)\n",
        "#     tf.assert_rank(y_pred,2)\n",
        "    \n",
        "    p_shape = tf.shape(y_true)\n",
        "    q_shape = tf.shape(y_pred)\n",
        "#     tf.assert_equal(p_shape, q_shape)\n",
        "    \n",
        "    # normalize sum to 1\n",
        "    p_ = tf.divide(y_true, tf.tile(tf.expand_dims(tf.reduce_sum(y_true, axis=1), 1), [1,p_shape[1]]))\n",
        "    q_ = tf.divide(y_pred, tf.tile(tf.expand_dims(tf.reduce_sum(y_pred, axis=1), 1), [1,p_shape[1]]))\n",
        "    \n",
        "    return tf.reduce_sum(tf.multiply(p_, tf.log(tf.divide(p_, q_))), axis=1)\n",
        "\n",
        "def total_loss (y_true, y_pred):\n",
        "\n",
        "    px_loss = pixel_loss(y_true, y_pred)\n",
        "\n",
        "    ctx_loss = contextual_loss(y_true, y_pred)\n",
        "    \n",
        "    return (0.2 * px_loss) + (0.8 * ctx_loss)"
      ],
      "metadata": {
        "id": "-zx-PImAdYDn"
      },
      "execution_count": 11,
      "outputs": []
    },
    {
      "cell_type": "code",
      "source": [
        "# dataset path\n",
        "b_photo_path = '/content/gdrive/MyDrive/Datasets/CUHK/Augmented photo/'\n",
        "b_sketch_path = '/content/gdrive/MyDrive/Datasets/CUHK/Augmented sketch/'\n",
        "\n",
        "blue_photo = load_filename(b_photo_path)\n",
        "blue_sketch = load_filename(b_sketch_path)"
      ],
      "metadata": {
        "id": "yns-LCqCdcfB"
      },
      "execution_count": 12,
      "outputs": []
    },
    {
      "cell_type": "code",
      "source": [
        "plt.imshow(cv2.cvtColor(cv2.imread(blue_photo[1102]).astype('uint8'), cv2.COLOR_BGR2RGB))"
      ],
      "metadata": {
        "colab": {
          "base_uri": "https://localhost:8080/",
          "height": 286
        },
        "id": "G6l0Wbu_dkWO",
        "outputId": "89638c9e-0f46-4b2b-ca11-3e33b6587084"
      },
      "execution_count": 13,
      "outputs": [
        {
          "output_type": "execute_result",
          "data": {
            "text/plain": [
              "<matplotlib.image.AxesImage at 0x7fa97d7c0990>"
            ]
          },
          "metadata": {},
          "execution_count": 13
        },
        {
          "output_type": "display_data",
          "data": {
            "image/png": "[encoded data removed]",
            "text/plain": [
              "<Figure size 432x288 with 1 Axes>"
            ]
          },
          "metadata": {
            "needs_background": "light"
          }
        }
      ]
    },
    {
      "cell_type": "code",
      "source": [
        "plt.imshow(cv2.cvtColor(cv2.imread(blue_sketch[1102]).astype('uint8'), cv2.COLOR_BGR2RGB))"
      ],
      "metadata": {
        "colab": {
          "base_uri": "https://localhost:8080/",
          "height": 286
        },
        "id": "wLwbFxuqdoc4",
        "outputId": "33acfdf7-4fbd-49d3-c771-e929cb885061"
      },
      "execution_count": 14,
      "outputs": [
        {
          "output_type": "execute_result",
          "data": {
            "text/plain": [
              "<matplotlib.image.AxesImage at 0x7fa97dd7cb10>"
            ]
          },
          "metadata": {},
          "execution_count": 14
        },
        {
          "output_type": "display_data",
          "data": {
            "image/png": "[encoded data removed]",
            "text/plain": [
              "<Figure size 432x288 with 1 Axes>"
            ]
          },
          "metadata": {
            "needs_background": "light"
          }
        }
      ]
    },
    {
      "cell_type": "code",
      "source": [
        "img_shape = (256, 256, 3)\n",
        "\n",
        "d_model = discriminator(img_shape)\n",
        "\n",
        "g_model = generator(img_shape)\n",
        "\n",
        "gan_model = GAN(g_model, d_model, img_shape)"
      ],
      "metadata": {
        "id": "5DaPmau3i8xu",
        "colab": {
          "base_uri": "https://localhost:8080/"
        },
        "outputId": "13366869-d9f4-4b12-bca7-610b640251d3"
      },
      "execution_count": 15,
      "outputs": [
        {
          "output_type": "stream",
          "name": "stdout",
          "text": [
            "WARNING:tensorflow:From /usr/local/lib/python3.7/dist-packages/keras/backend/tensorflow_backend.py:74: The name tf.get_default_graph is deprecated. Please use tf.compat.v1.get_default_graph instead.\n",
            "\n",
            "WARNING:tensorflow:From /usr/local/lib/python3.7/dist-packages/keras/backend/tensorflow_backend.py:517: The name tf.placeholder is deprecated. Please use tf.compat.v1.placeholder instead.\n",
            "\n",
            "WARNING:tensorflow:From /usr/local/lib/python3.7/dist-packages/keras/backend/tensorflow_backend.py:4138: The name tf.random_uniform is deprecated. Please use tf.random.uniform instead.\n",
            "\n",
            "WARNING:tensorflow:From /usr/local/lib/python3.7/dist-packages/keras/backend/tensorflow_backend.py:2018: The name tf.image.resize_nearest_neighbor is deprecated. Please use tf.compat.v1.image.resize_nearest_neighbor instead.\n",
            "\n",
            "WARNING:tensorflow:From /usr/local/lib/python3.7/dist-packages/keras/backend/tensorflow_backend.py:133: The name tf.placeholder_with_default is deprecated. Please use tf.compat.v1.placeholder_with_default instead.\n",
            "\n",
            "WARNING:tensorflow:From /usr/local/lib/python3.7/dist-packages/keras/backend/tensorflow_backend.py:3445: calling dropout (from tensorflow.python.ops.nn_ops) with keep_prob is deprecated and will be removed in a future version.\n",
            "Instructions for updating:\n",
            "Please use `rate` instead of `keep_prob`. Rate should be set to `rate = 1 - keep_prob`.\n"
          ]
        }
      ]
    },
    {
      "cell_type": "code",
      "source": [
        "gan_model.summary()"
      ],
      "metadata": {
        "colab": {
          "base_uri": "https://localhost:8080/"
        },
        "id": "TDWE8QGsjDG6",
        "outputId": "297397e1-fc06-4275-8a40-4fdefb9bc126"
      },
      "execution_count": 16,
      "outputs": [
        {
          "output_type": "stream",
          "name": "stdout",
          "text": [
            "__________________________________________________________________________________________________\n",
            "Layer (type)                    Output Shape         Param #     Connected to                     \n",
            "==================================================================================================\n",
            "input_4 (InputLayer)            (None, 256, 256, 3)  0                                            \n",
            "__________________________________________________________________________________________________\n",
            "generator (Model)               (None, 256, 256, 3)  41825691    input_4[0][0]                    \n",
            "__________________________________________________________________________________________________\n",
            "discriminator (Model)           (None, 64, 64, 1)    539203      input_4[0][0]                    \n",
            "                                                                 generator[1][0]                  \n",
            "==================================================================================================\n",
            "Total params: 42,364,894\n",
            "Trainable params: 41,825,691\n",
            "Non-trainable params: 539,203\n",
            "__________________________________________________________________________________________________\n"
          ]
        }
      ]
    },
    {
      "cell_type": "code",
      "source": [
        "opt = Adam(lr=2e-4, beta_1=0.5)\n",
        "\n",
        "d_model.compile(loss='binary_crossentropy', optimizer=opt, loss_weights=[0.5])\n",
        "gan_model.compile(loss=['binary_crossentropy', total_loss], optimizer=opt, loss_weights=[1,100])"
      ],
      "metadata": {
        "colab": {
          "base_uri": "https://localhost:8080/"
        },
        "id": "05D9s3tVjHBP",
        "outputId": "5ace3c57-9e6b-44e0-bac6-02dcbbff39c9"
      },
      "execution_count": 21,
      "outputs": [
        {
          "output_type": "stream",
          "name": "stdout",
          "text": [
            "WARNING:tensorflow:From /usr/local/lib/python3.7/dist-packages/keras/backend/tensorflow_backend.py:3376: The name tf.log is deprecated. Please use tf.math.log instead.\n",
            "\n",
            "WARNING:tensorflow:From /usr/local/lib/python3.7/dist-packages/tensorflow_core/python/ops/nn_impl.py:183: where (from tensorflow.python.ops.array_ops) is deprecated and will be removed in a future version.\n",
            "Instructions for updating:\n",
            "Use tf.where in 2.0, which has the same broadcast rule as np.where\n"
          ]
        }
      ]
    },
    {
      "cell_type": "code",
      "source": [
        "!pip install tensorflow==1.15.3\n",
        "\n",
        "!pip install --no-deps keras==2.2.4"
      ],
      "metadata": {
        "colab": {
          "base_uri": "https://localhost:8080/"
        },
        "id": "lgTglNtJkHis",
        "outputId": "7a218d38-aee5-4437-bcfb-ebaab5cbb741"
      },
      "execution_count": 18,
      "outputs": [
        {
          "output_type": "stream",
          "name": "stdout",
          "text": [
            "Requirement already satisfied: tensorflow==1.15.3 in /usr/local/lib/python3.7/dist-packages (1.15.3)\n",
            "Requirement already satisfied: tensorboard<1.16.0,>=1.15.0 in /usr/local/lib/python3.7/dist-packages (from tensorflow==1.15.3) (1.15.0)\n",
            "Requirement already satisfied: gast==0.2.2 in /usr/local/lib/python3.7/dist-packages (from tensorflow==1.15.3) (0.2.2)\n",
            "Requirement already satisfied: wrapt>=1.11.1 in /usr/local/lib/python3.7/dist-packages (from tensorflow==1.15.3) (1.13.3)\n",
            "Requirement already satisfied: six>=1.10.0 in /usr/local/lib/python3.7/dist-packages (from tensorflow==1.15.3) (1.15.0)\n",
            "Requirement already satisfied: google-pasta>=0.1.6 in /usr/local/lib/python3.7/dist-packages (from tensorflow==1.15.3) (0.2.0)\n",
            "Requirement already satisfied: keras-preprocessing>=1.0.5 in /usr/local/lib/python3.7/dist-packages (from tensorflow==1.15.3) (1.1.2)\n",
            "Requirement already satisfied: astor>=0.6.0 in /usr/local/lib/python3.7/dist-packages (from tensorflow==1.15.3) (0.8.1)\n",
            "Requirement already satisfied: tensorflow-estimator==1.15.1 in /usr/local/lib/python3.7/dist-packages (from tensorflow==1.15.3) (1.15.1)\n",
            "Requirement already satisfied: numpy<2.0,>=1.16.0 in /usr/local/lib/python3.7/dist-packages (from tensorflow==1.15.3) (1.19.5)\n",
            "Requirement already satisfied: keras-applications>=1.0.8 in /usr/local/lib/python3.7/dist-packages (from tensorflow==1.15.3) (1.0.8)\n",
            "Requirement already satisfied: absl-py>=0.7.0 in /usr/local/lib/python3.7/dist-packages (from tensorflow==1.15.3) (1.0.0)\n",
            "Requirement already satisfied: protobuf>=3.6.1 in /usr/local/lib/python3.7/dist-packages (from tensorflow==1.15.3) (3.17.3)\n",
            "Requirement already satisfied: wheel>=0.26 in /usr/local/lib/python3.7/dist-packages (from tensorflow==1.15.3) (0.37.1)\n",
            "Requirement already satisfied: termcolor>=1.1.0 in /usr/local/lib/python3.7/dist-packages (from tensorflow==1.15.3) (1.1.0)\n",
            "Requirement already satisfied: grpcio>=1.8.6 in /usr/local/lib/python3.7/dist-packages (from tensorflow==1.15.3) (1.43.0)\n",
            "Requirement already satisfied: opt-einsum>=2.3.2 in /usr/local/lib/python3.7/dist-packages (from tensorflow==1.15.3) (3.3.0)\n",
            "Requirement already satisfied: h5py in /usr/local/lib/python3.7/dist-packages (from keras-applications>=1.0.8->tensorflow==1.15.3) (3.1.0)\n",
            "Requirement already satisfied: markdown>=2.6.8 in /usr/local/lib/python3.7/dist-packages (from tensorboard<1.16.0,>=1.15.0->tensorflow==1.15.3) (3.3.6)\n",
            "Requirement already satisfied: setuptools>=41.0.0 in /usr/local/lib/python3.7/dist-packages (from tensorboard<1.16.0,>=1.15.0->tensorflow==1.15.3) (57.4.0)\n",
            "Requirement already satisfied: werkzeug>=0.11.15 in /usr/local/lib/python3.7/dist-packages (from tensorboard<1.16.0,>=1.15.0->tensorflow==1.15.3) (1.0.1)\n",
            "Requirement already satisfied: importlib-metadata>=4.4 in /usr/local/lib/python3.7/dist-packages (from markdown>=2.6.8->tensorboard<1.16.0,>=1.15.0->tensorflow==1.15.3) (4.10.1)\n",
            "Requirement already satisfied: zipp>=0.5 in /usr/local/lib/python3.7/dist-packages (from importlib-metadata>=4.4->markdown>=2.6.8->tensorboard<1.16.0,>=1.15.0->tensorflow==1.15.3) (3.7.0)\n",
            "Requirement already satisfied: typing-extensions>=3.6.4 in /usr/local/lib/python3.7/dist-packages (from importlib-metadata>=4.4->markdown>=2.6.8->tensorboard<1.16.0,>=1.15.0->tensorflow==1.15.3) (3.10.0.2)\n",
            "Requirement already satisfied: cached-property in /usr/local/lib/python3.7/dist-packages (from h5py->keras-applications>=1.0.8->tensorflow==1.15.3) (1.5.2)\n",
            "Requirement already satisfied: keras==2.2.4 in /usr/local/lib/python3.7/dist-packages (2.2.4)\n"
          ]
        }
      ]
    },
    {
      "cell_type": "code",
      "source": [
        "train(d_model, g_model, gan_model, [blue_sketch, blue_photo], '/content/gdrive/MyDrive/Datasets/Models Pixel[02]_Context[08]/', n_epochs = 1, n_batch=16) "
      ],
      "metadata": {
        "colab": {
          "base_uri": "https://localhost:8080/"
        },
        "id": "gexRixRVjKzc",
        "outputId": "7474b6a7-02d2-4e34-fd7d-a1786a3da372"
      },
      "execution_count": 23,
      "outputs": [
        {
          "output_type": "stream",
          "name": "stdout",
          "text": [
            " ========== Epoch 1 ========== \n",
            "Batch : 1, D Loss : 4.499 | G Loss : 22.434\n",
            "Batch : 2, D Loss : 4.669 | G Loss : 22.961\n",
            "Batch : 3, D Loss : 4.514 | G Loss : 21.173\n",
            ">Saved: plot_000001.png and g_model & d_model\n"
          ]
        }
      ]
    },
    {
      "cell_type": "markdown",
      "source": [
        "# Test single"
      ],
      "metadata": {
        "id": "qp-DVv1ABSHW"
      }
    },
    {
      "cell_type": "code",
      "source": [
        "from keras_contrib.layers.normalization.instancenormalization import InstanceNormalization\n",
        "from keras.preprocessing.image import img_to_array\n",
        "from keras.preprocessing.image import load_img\n",
        "from keras.models import load_model\n",
        "import matplotlib.pyplot as plt\n",
        "import numpy as np\n",
        "import cv2"
      ],
      "metadata": {
        "colab": {
          "base_uri": "https://localhost:8080/"
        },
        "id": "p0a_uVjoBQ5W",
        "outputId": "fbf74a6c-9e84-4f46-fb33-a3f2df69d1cc"
      },
      "execution_count": 2,
      "outputs": [
        {
          "output_type": "stream",
          "name": "stderr",
          "text": [
            "Using TensorFlow backend.\n"
          ]
        }
      ]
    },
    {
      "cell_type": "code",
      "source": [
        "pip install 'h5py==2.10.0' --force-reinstall"
      ],
      "metadata": {
        "colab": {
          "base_uri": "https://localhost:8080/",
          "height": 606
        },
        "id": "myA1OlY9Ju_i",
        "outputId": "e69a953d-525e-4560-cfcb-fedc4482304b"
      },
      "execution_count": 33,
      "outputs": [
        {
          "output_type": "stream",
          "name": "stdout",
          "text": [
            "Collecting h5py==2.10.0\n",
            "  Downloading h5py-2.10.0-cp37-cp37m-manylinux1_x86_64.whl (2.9 MB)\n",
            "\u001b[K     |████████████████████████████████| 2.9 MB 7.4 MB/s \n",
            "\u001b[?25hCollecting six\n",
            "  Downloading six-1.16.0-py2.py3-none-any.whl (11 kB)\n",
            "Collecting numpy>=1.7\n",
            "  Downloading numpy-1.21.5-cp37-cp37m-manylinux_2_12_x86_64.manylinux2010_x86_64.whl (15.7 MB)\n",
            "\u001b[K     |████████████████████████████████| 15.7 MB 41.1 MB/s \n",
            "\u001b[?25hInstalling collected packages: six, numpy, h5py\n",
            "  Attempting uninstall: six\n",
            "    Found existing installation: six 1.15.0\n",
            "    Uninstalling six-1.15.0:\n",
            "      Successfully uninstalled six-1.15.0\n",
            "  Attempting uninstall: numpy\n",
            "    Found existing installation: numpy 1.19.5\n",
            "    Uninstalling numpy-1.19.5:\n",
            "      Successfully uninstalled numpy-1.19.5\n",
            "  Attempting uninstall: h5py\n",
            "    Found existing installation: h5py 3.1.0\n",
            "    Uninstalling h5py-3.1.0:\n",
            "      Successfully uninstalled h5py-3.1.0\n",
            "\u001b[31mERROR: pip's dependency resolver does not currently take into account all the packages that are installed. This behaviour is the source of the following dependency conflicts.\n",
            "yellowbrick 1.3.post1 requires numpy<1.20,>=1.16.0, but you have numpy 1.21.5 which is incompatible.\n",
            "tensorflow-probability 0.15.0 requires gast>=0.3.2, but you have gast 0.2.2 which is incompatible.\n",
            "kapre 0.3.7 requires tensorflow>=2.0.0, but you have tensorflow 1.15.3 which is incompatible.\n",
            "google-colab 1.0.0 requires six~=1.15.0, but you have six 1.16.0 which is incompatible.\n",
            "datascience 0.10.6 requires folium==0.2.1, but you have folium 0.8.3 which is incompatible.\n",
            "albumentations 0.1.12 requires imgaug<0.2.7,>=0.2.5, but you have imgaug 0.2.9 which is incompatible.\u001b[0m\n",
            "Successfully installed h5py-2.10.0 numpy-1.21.5 six-1.16.0\n"
          ]
        },
        {
          "output_type": "display_data",
          "data": {
            "application/vnd.colab-display-data+json": {
              "pip_warning": {
                "packages": [
                  "h5py",
                  "numpy",
                  "six"
                ]
              }
            }
          },
          "metadata": {}
        }
      ]
    },
    {
      "cell_type": "markdown",
      "source": [
        "# test"
      ],
      "metadata": {
        "id": "s4Ozuq86Baw5"
      }
    },
    {
      "cell_type": "code",
      "source": [
        ""
      ],
      "metadata": {
        "id": "DVa5HwLzHz3c"
      },
      "execution_count": null,
      "outputs": []
    }
  ]
}